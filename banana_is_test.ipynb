{
 "cells": [
  {
   "cell_type": "code",
   "execution_count": 1,
   "metadata": {
    "id": "dW2kag3lEQcp"
   },
   "outputs": [],
   "source": [
    "from distribution_classes import Simple_Gaussian, Banana_Gaussian\n",
    "from generate_means import regular_expectancy, new_expectancy, box_comp, MH\n",
    "from model_building import build_model\n",
    "from optimisation import estimate_params"
   ]
  },
  {
   "cell_type": "code",
   "execution_count": 2,
   "metadata": {
    "id": "XVaDJ_tboZDY"
   },
   "outputs": [],
   "source": [
    "%load_ext autoreload\n",
    "%autoreload 2"
   ]
  },
  {
   "cell_type": "code",
   "execution_count": 3,
   "metadata": {},
   "outputs": [],
   "source": [
    "from IPython.display import clear_output"
   ]
  },
  {
   "cell_type": "code",
   "execution_count": 4,
   "metadata": {},
   "outputs": [],
   "source": [
    "import torch\n",
    "import numpy as np\n",
    "import matplotlib.pyplot as plt"
   ]
  },
  {
   "cell_type": "code",
   "execution_count": 5,
   "metadata": {},
   "outputs": [],
   "source": [
    "import pandas as pd\n",
    "import itertools"
   ]
  },
  {
   "cell_type": "code",
   "execution_count": 6,
   "metadata": {
    "id": "-v3nuKmoW8sF"
   },
   "outputs": [],
   "source": [
    "dev = torch.device(\n",
    "     \"cuda\") if torch.cuda.is_available() else torch.device(\"cpu\")\n"
   ]
  },
  {
   "cell_type": "code",
   "execution_count": 7,
   "metadata": {},
   "outputs": [],
   "source": [
    "#dev = torch.device(\"cpu\")"
   ]
  },
  {
   "cell_type": "code",
   "execution_count": 8,
   "metadata": {
    "colab": {
     "base_uri": "https://localhost:8080/"
    },
    "id": "NXUKD_M0LUUX",
    "outputId": "213a824b-df3c-4abe-ad0f-6f93c8b1d6ef"
   },
   "outputs": [
    {
     "data": {
      "text/plain": [
       "device(type='cuda')"
      ]
     },
     "execution_count": 8,
     "metadata": {},
     "output_type": "execute_result"
    }
   ],
   "source": [
    "dev"
   ]
  },
  {
   "cell_type": "code",
   "execution_count": 9,
   "metadata": {
    "id": "AzlUjxeQaBso"
   },
   "outputs": [],
   "source": [
    "p = 100\n",
    "b = 0.01\n",
    "\n",
    "def func_cross(x):\n",
    "    #specifying h(x)\n",
    "    return (x[:, 1] > 4).type(torch.float)\n",
    "\n",
    "def func_peel(x):\n",
    "    #specifying h(x)\n",
    "    x1 = x[:, 0]\n",
    "    x2 = x[:, 1] - b*x1**2 + p*b\n",
    "    return (x1**2/p + x2**2) * (x1**2/p + x2**2 > 3).type(torch.float)"
   ]
  },
  {
   "cell_type": "code",
   "execution_count": null,
   "metadata": {
    "colab": {
     "base_uri": "https://localhost:8080/"
    },
    "id": "joxH5MUiQzfc",
    "outputId": "a14e623a-65e3-446a-fe45-d0f506252866",
    "scrolled": true
   },
   "outputs": [
    {
     "name": "stdout",
     "output_type": "stream",
     "text": [
      "[0, 0.0001, 3, 9, 'maf', 20000, 0]\n"
     ]
    }
   ],
   "source": [
    "import os\n",
    "\n",
    "data_dimensions = 2 # how many dimensions are there in our variable\n",
    "# should work for >= 2\n",
    "lrs = [1e-4]\n",
    "layer_amnt = [3, 9, 15]\n",
    "hidden_size = [3, 9, 15]\n",
    "flow_type = ['maf']\n",
    "epoch_amnt = [20*10**3]\n",
    "\n",
    "funcs_ind = [0, 1]\n",
    "funcs_it = [func_cross, func_peel]\n",
    "\n",
    "column_names = [\"test n\", \"learning rate\", \"layer amount\", \n",
    "                \"hidden layer size\", \"flow type\",\n",
    "                \"max_amount of epochs\", \"func_id\",\n",
    "               \"MC Vanila\", \"norm_flow\", \"learned_d\"]\n",
    "if os.path.exists('./bananaressev.csv'):\n",
    "    output = pd.read_csv('bananaressev.csv')\n",
    "else:\n",
    "    output = pd.DataFrame(columns = column_names)\n",
    "\n",
    "for combination in itertools.product(lrs, layer_amnt, hidden_size, flow_type, epoch_amnt, funcs_ind):\n",
    "    for tms in range(3):\n",
    "        cur_params = [tms, *list(combination)]\n",
    "        was_comb = False\n",
    "        for i in range(output.shape[0]):\n",
    "            old_params = output.iloc[i, :len(cur_params)]\n",
    "            if old_params.tolist() == cur_params:\n",
    "                was_comb = True\n",
    "                break\n",
    "        if was_comb:\n",
    "            continue\n",
    "        print(cur_params)\n",
    "        clr, clamnt, chidsz, cfltype, cepamnt, c_func = combination\n",
    "        model = build_model(data_dimensions, clamnt, chidsz, cfltype, dev = dev)\n",
    "        model = model.to(dev)\n",
    "        p_dist = Banana_Gaussian(p, b, dev = dev)\n",
    "        q_dist = Simple_Gaussian(dimensions = data_dimensions, dev = dev)\n",
    "        try:\n",
    "            estimate_params(p_dist, q_dist, funcs_it[c_func], model, sample_size = 10**3, lear_rt = clr, \n",
    "                            epoch_amnt = cepamnt, lr_downing_num = 5, dev = dev, todraw = False)\n",
    "\n",
    "            model.eval()\n",
    "            reg = regular_expectancy(funcs_it[c_func], p_dist, 100, 10**3)\n",
    "            newe = new_expectancy(funcs_it[c_func], p_dist, q_dist, 100, 10**3, model)\n",
    "            cur_params.append(reg)\n",
    "            cur_params.append(newe)\n",
    "        except ValueError:\n",
    "            cur_params.append(reg)\n",
    "            cur_params.append(newe)\n",
    "        \n",
    "        new_data = q_dist.sampler(10**3)\n",
    "        trans, log_det = model.forward(new_data, mode='inverse')\n",
    "\n",
    "        cur_params.append(trans.detach().cpu().tolist())\n",
    "        cur_params = pd.Series(cur_params, index=output.columns)\n",
    "        output = output.append(cur_params, ignore_index=True)\n",
    "        output.to_csv('bananaressev.csv', index=False)\n",
    "        clear_output(wait=True)"
   ]
  },
  {
   "cell_type": "code",
   "execution_count": null,
   "metadata": {},
   "outputs": [],
   "source": []
  }
 ],
 "metadata": {
  "accelerator": "GPU",
  "colab": {
   "collapsed_sections": [],
   "name": "3+ dim",
   "provenance": []
  },
  "kernelspec": {
   "display_name": "Python 3",
   "language": "python",
   "name": "python3"
  },
  "language_info": {
   "codemirror_mode": {
    "name": "ipython",
    "version": 3
   },
   "file_extension": ".py",
   "mimetype": "text/x-python",
   "name": "python",
   "nbconvert_exporter": "python",
   "pygments_lexer": "ipython3",
   "version": "3.7.6"
  }
 },
 "nbformat": 4,
 "nbformat_minor": 1
}
