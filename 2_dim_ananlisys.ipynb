{
 "cells": [
  {
   "cell_type": "code",
   "execution_count": 108,
   "metadata": {
    "id": "9coI1gc1B7Yo"
   },
   "outputs": [],
   "source": [
    "import pandas as pd\n",
    "import numpy as np\n",
    "import matplotlib.pyplot as plt\n",
    "import os\n",
    "import seaborn as sns"
   ]
  },
  {
   "cell_type": "code",
   "execution_count": 109,
   "metadata": {
    "id": "hmzr-9--RUlF"
   },
   "outputs": [],
   "source": [
    "def box_comp(a, b):                                                    \n",
    "    data = [a, b]                                             \n",
    "    plt.figure(figsize=(12,8))                 \n",
    "    plt.boxplot(data, showfliers = False, labels =                              \n",
    "                [\"Vanila Sampling\", \"norm_flow\"])\n",
    "    plt.grid()\n",
    "    plt.show()"
   ]
  },
  {
   "cell_type": "code",
   "execution_count": 110,
   "metadata": {},
   "outputs": [
    {
     "data": {
      "text/html": [
       "<div>\n",
       "<style scoped>\n",
       "    .dataframe tbody tr th:only-of-type {\n",
       "        vertical-align: middle;\n",
       "    }\n",
       "\n",
       "    .dataframe tbody tr th {\n",
       "        vertical-align: top;\n",
       "    }\n",
       "\n",
       "    .dataframe thead th {\n",
       "        text-align: right;\n",
       "    }\n",
       "</style>\n",
       "<table border=\"1\" class=\"dataframe\">\n",
       "  <thead>\n",
       "    <tr style=\"text-align: right;\">\n",
       "      <th></th>\n",
       "      <th>test n</th>\n",
       "      <th>learning rate</th>\n",
       "      <th>layer amount</th>\n",
       "      <th>hidden layer size</th>\n",
       "      <th>flow type</th>\n",
       "      <th>variance of p distr</th>\n",
       "      <th>max_amount of epochs</th>\n",
       "      <th>MC Vanila</th>\n",
       "      <th>norm_flow</th>\n",
       "    </tr>\n",
       "  </thead>\n",
       "  <tbody>\n",
       "    <tr>\n",
       "      <th>0</th>\n",
       "      <td>0</td>\n",
       "      <td>0.001</td>\n",
       "      <td>3</td>\n",
       "      <td>3</td>\n",
       "      <td>realnvp</td>\n",
       "      <td>0.1</td>\n",
       "      <td>5000</td>\n",
       "      <td>[1.018391728401184, 1.0052063465118408, 1.0261...</td>\n",
       "      <td>[1.0516717433929443, 1.1018359661102295, 1.069...</td>\n",
       "    </tr>\n",
       "    <tr>\n",
       "      <th>1</th>\n",
       "      <td>1</td>\n",
       "      <td>0.001</td>\n",
       "      <td>3</td>\n",
       "      <td>3</td>\n",
       "      <td>realnvp</td>\n",
       "      <td>0.1</td>\n",
       "      <td>5000</td>\n",
       "      <td>[1.0327441692352295, 1.0434844493865967, 1.051...</td>\n",
       "      <td>[1.041224718093872, 1.0545598268508911, 1.1645...</td>\n",
       "    </tr>\n",
       "    <tr>\n",
       "      <th>2</th>\n",
       "      <td>2</td>\n",
       "      <td>0.001</td>\n",
       "      <td>3</td>\n",
       "      <td>3</td>\n",
       "      <td>realnvp</td>\n",
       "      <td>0.1</td>\n",
       "      <td>5000</td>\n",
       "      <td>[0.9914205074310303, 0.9996729493141174, 0.996...</td>\n",
       "      <td>[1.0306094884872437, 1.0424857139587402, 0.989...</td>\n",
       "    </tr>\n",
       "    <tr>\n",
       "      <th>3</th>\n",
       "      <td>3</td>\n",
       "      <td>0.001</td>\n",
       "      <td>3</td>\n",
       "      <td>3</td>\n",
       "      <td>realnvp</td>\n",
       "      <td>0.1</td>\n",
       "      <td>5000</td>\n",
       "      <td>[1.054095983505249, 1.016518473625183, 1.03513...</td>\n",
       "      <td>[1.0003259181976318, 1.0019031763076782, 1.017...</td>\n",
       "    </tr>\n",
       "    <tr>\n",
       "      <th>4</th>\n",
       "      <td>4</td>\n",
       "      <td>0.001</td>\n",
       "      <td>3</td>\n",
       "      <td>3</td>\n",
       "      <td>realnvp</td>\n",
       "      <td>0.1</td>\n",
       "      <td>5000</td>\n",
       "      <td>[1.0335631370544434, 1.0092984437942505, 1.040...</td>\n",
       "      <td>[1.0954676866531372, 1.0640685558319092, 0.951...</td>\n",
       "    </tr>\n",
       "  </tbody>\n",
       "</table>\n",
       "</div>"
      ],
      "text/plain": [
       "   test n  learning rate  layer amount  hidden layer size flow type  \\\n",
       "0       0          0.001             3                  3   realnvp   \n",
       "1       1          0.001             3                  3   realnvp   \n",
       "2       2          0.001             3                  3   realnvp   \n",
       "3       3          0.001             3                  3   realnvp   \n",
       "4       4          0.001             3                  3   realnvp   \n",
       "\n",
       "   variance of p distr  max_amount of epochs  \\\n",
       "0                  0.1                  5000   \n",
       "1                  0.1                  5000   \n",
       "2                  0.1                  5000   \n",
       "3                  0.1                  5000   \n",
       "4                  0.1                  5000   \n",
       "\n",
       "                                           MC Vanila  \\\n",
       "0  [1.018391728401184, 1.0052063465118408, 1.0261...   \n",
       "1  [1.0327441692352295, 1.0434844493865967, 1.051...   \n",
       "2  [0.9914205074310303, 0.9996729493141174, 0.996...   \n",
       "3  [1.054095983505249, 1.016518473625183, 1.03513...   \n",
       "4  [1.0335631370544434, 1.0092984437942505, 1.040...   \n",
       "\n",
       "                                           norm_flow  \n",
       "0  [1.0516717433929443, 1.1018359661102295, 1.069...  \n",
       "1  [1.041224718093872, 1.0545598268508911, 1.1645...  \n",
       "2  [1.0306094884872437, 1.0424857139587402, 0.989...  \n",
       "3  [1.0003259181976318, 1.0019031763076782, 1.017...  \n",
       "4  [1.0954676866531372, 1.0640685558319092, 0.951...  "
      ]
     },
     "execution_count": 110,
     "metadata": {},
     "output_type": "execute_result"
    }
   ],
   "source": [
    "data = pd.read_csv('2dimressev.csv')\n",
    "data.head(5)"
   ]
  },
  {
   "cell_type": "code",
   "execution_count": 111,
   "metadata": {},
   "outputs": [
    {
     "data": {
      "text/plain": [
       "(720, 9)"
      ]
     },
     "execution_count": 111,
     "metadata": {},
     "output_type": "execute_result"
    }
   ],
   "source": [
    "data.shape"
   ]
  },
  {
   "cell_type": "code",
   "execution_count": 112,
   "metadata": {},
   "outputs": [
    {
     "data": {
      "text/plain": [
       "0"
      ]
     },
     "execution_count": 112,
     "metadata": {},
     "output_type": "execute_result"
    }
   ],
   "source": [
    "data['norm_flow'].isna().sum()"
   ]
  },
  {
   "cell_type": "code",
   "execution_count": 113,
   "metadata": {},
   "outputs": [
    {
     "data": {
      "text/plain": [
       "'[1.018391728401184, 1.0052063465118408, 1.0261987447738647, 1.0444837808609009, 1.0514572858810425, 1.0302553176879883, 1.0176441669464111, 1.0572386980056763, 1.0336499214172363, 1.0455670356750488, 1.016663670539856, 1.0096814632415771, 1.042747139930725, 1.0244455337524414, 1.0538712739944458, 1.024639368057251, 1.0808128118515015, 0.9667284488677979, 1.0179431438446045, 0.9926914572715759, 0.9860888123512268, 1.0196948051452637, 1.0443565845489502, 1.0403785705566406, 1.039329171180725, 1.0549147129058838, 1.0236023664474487, 1.0173379182815552, 1.0616379976272583, 1.0429580211639404, 1.0113948583602905, 1.0604665279388428, 1.007285714149475, 1.0497558116912842, 1.0251318216323853, 1.0402851104736328, 1.0028961896896362, 1.0299832820892334, 1.0086075067520142, 1.027137041091919, 1.0217405557632446, 1.0497626066207886, 1.0326255559921265, 1.038057565689087, 1.0322940349578857, 1.0325087308883667, 1.0103801488876343, 1.039648413658142, 1.0488386154174805, 1.0037531852722168, 1.0412322282791138, 1.0639387369155884, 1.0317468643188477, 0.9935242533683777, 1.0281696319580078, 1.0467931032180786, 1.0175856351852417, 1.0424388647079468, 0.9910346865653992, 1.0495846271514893, 0.9977088570594788, 1.0114428997039795, 1.0398333072662354, 1.0150285959243774, 1.0844683647155762, 1.0763096809387207, 1.0219708681106567, 0.9978849291801453, 1.0049395561218262, 1.009840488433838, 1.0330696105957031, 1.021727204322815, 1.0240296125411987, 1.0025811195373535, 1.0150130987167358, 1.0063713788986206, 0.9983310103416443, 1.0136454105377197, 0.9953787326812744, 1.0490682125091553, 1.0910930633544922, 1.0253825187683105, 1.022415041923523, 1.0287836790084839, 1.0230313539505005, 1.0750234127044678, 1.0505825281143188, 1.0177040100097656, 1.030523657798767, 1.0348701477050781, 1.0167746543884277, 1.0536383390426636, 1.0366019010543823, 1.070680022239685, 0.9875069856643677, 1.0480918884277344, 1.0232133865356445, 1.0262147188186646, 1.021674633026123, 1.0466504096984863]'"
      ]
     },
     "execution_count": 113,
     "metadata": {},
     "output_type": "execute_result"
    }
   ],
   "source": [
    "data.iloc[0, 7]"
   ]
  },
  {
   "cell_type": "code",
   "execution_count": 114,
   "metadata": {},
   "outputs": [
    {
     "data": {
      "text/plain": [
       "test n                    int64\n",
       "learning rate           float64\n",
       "layer amount              int64\n",
       "hidden layer size         int64\n",
       "flow type                object\n",
       "variance of p distr     float64\n",
       "max_amount of epochs      int64\n",
       "MC Vanila                object\n",
       "norm_flow                object\n",
       "dtype: object"
      ]
     },
     "execution_count": 114,
     "metadata": {},
     "output_type": "execute_result"
    }
   ],
   "source": [
    "data.dtypes"
   ]
  },
  {
   "cell_type": "code",
   "execution_count": 115,
   "metadata": {},
   "outputs": [
    {
     "data": {
      "text/html": [
       "<div>\n",
       "<style scoped>\n",
       "    .dataframe tbody tr th:only-of-type {\n",
       "        vertical-align: middle;\n",
       "    }\n",
       "\n",
       "    .dataframe tbody tr th {\n",
       "        vertical-align: top;\n",
       "    }\n",
       "\n",
       "    .dataframe thead th {\n",
       "        text-align: right;\n",
       "    }\n",
       "</style>\n",
       "<table border=\"1\" class=\"dataframe\">\n",
       "  <thead>\n",
       "    <tr style=\"text-align: right;\">\n",
       "      <th></th>\n",
       "      <th>test n</th>\n",
       "      <th>learning rate</th>\n",
       "      <th>layer amount</th>\n",
       "      <th>hidden layer size</th>\n",
       "      <th>flow type</th>\n",
       "      <th>variance of p distr</th>\n",
       "      <th>max_amount of epochs</th>\n",
       "      <th>MC Vanila</th>\n",
       "      <th>norm_flow</th>\n",
       "      <th>fl</th>\n",
       "      <th>mc</th>\n",
       "    </tr>\n",
       "  </thead>\n",
       "  <tbody>\n",
       "    <tr>\n",
       "      <th>0</th>\n",
       "      <td>0</td>\n",
       "      <td>0.001</td>\n",
       "      <td>3</td>\n",
       "      <td>3</td>\n",
       "      <td>realnvp</td>\n",
       "      <td>0.1</td>\n",
       "      <td>5000</td>\n",
       "      <td>[1.018391728401184, 1.0052063465118408, 1.0261...</td>\n",
       "      <td>[1.0516717433929443, 1.1018359661102295, 1.069...</td>\n",
       "      <td>[1.0516717433929443, 1.1018359661102295, 1.069...</td>\n",
       "      <td>[1.018391728401184, 1.0052063465118408, 1.0261...</td>\n",
       "    </tr>\n",
       "    <tr>\n",
       "      <th>1</th>\n",
       "      <td>1</td>\n",
       "      <td>0.001</td>\n",
       "      <td>3</td>\n",
       "      <td>3</td>\n",
       "      <td>realnvp</td>\n",
       "      <td>0.1</td>\n",
       "      <td>5000</td>\n",
       "      <td>[1.0327441692352295, 1.0434844493865967, 1.051...</td>\n",
       "      <td>[1.041224718093872, 1.0545598268508911, 1.1645...</td>\n",
       "      <td>[1.041224718093872, 1.0545598268508911, 1.1645...</td>\n",
       "      <td>[1.0327441692352295, 1.0434844493865967, 1.051...</td>\n",
       "    </tr>\n",
       "    <tr>\n",
       "      <th>2</th>\n",
       "      <td>2</td>\n",
       "      <td>0.001</td>\n",
       "      <td>3</td>\n",
       "      <td>3</td>\n",
       "      <td>realnvp</td>\n",
       "      <td>0.1</td>\n",
       "      <td>5000</td>\n",
       "      <td>[0.9914205074310303, 0.9996729493141174, 0.996...</td>\n",
       "      <td>[1.0306094884872437, 1.0424857139587402, 0.989...</td>\n",
       "      <td>[1.0306094884872437, 1.0424857139587402, 0.989...</td>\n",
       "      <td>[0.9914205074310303, 0.9996729493141174, 0.996...</td>\n",
       "    </tr>\n",
       "    <tr>\n",
       "      <th>3</th>\n",
       "      <td>3</td>\n",
       "      <td>0.001</td>\n",
       "      <td>3</td>\n",
       "      <td>3</td>\n",
       "      <td>realnvp</td>\n",
       "      <td>0.1</td>\n",
       "      <td>5000</td>\n",
       "      <td>[1.054095983505249, 1.016518473625183, 1.03513...</td>\n",
       "      <td>[1.0003259181976318, 1.0019031763076782, 1.017...</td>\n",
       "      <td>[1.0003259181976318, 1.0019031763076782, 1.017...</td>\n",
       "      <td>[1.054095983505249, 1.016518473625183, 1.03513...</td>\n",
       "    </tr>\n",
       "    <tr>\n",
       "      <th>4</th>\n",
       "      <td>4</td>\n",
       "      <td>0.001</td>\n",
       "      <td>3</td>\n",
       "      <td>3</td>\n",
       "      <td>realnvp</td>\n",
       "      <td>0.1</td>\n",
       "      <td>5000</td>\n",
       "      <td>[1.0335631370544434, 1.0092984437942505, 1.040...</td>\n",
       "      <td>[1.0954676866531372, 1.0640685558319092, 0.951...</td>\n",
       "      <td>[1.0954676866531372, 1.0640685558319092, 0.951...</td>\n",
       "      <td>[1.0335631370544434, 1.0092984437942505, 1.040...</td>\n",
       "    </tr>\n",
       "  </tbody>\n",
       "</table>\n",
       "</div>"
      ],
      "text/plain": [
       "   test n  learning rate  layer amount  hidden layer size flow type  \\\n",
       "0       0          0.001             3                  3   realnvp   \n",
       "1       1          0.001             3                  3   realnvp   \n",
       "2       2          0.001             3                  3   realnvp   \n",
       "3       3          0.001             3                  3   realnvp   \n",
       "4       4          0.001             3                  3   realnvp   \n",
       "\n",
       "   variance of p distr  max_amount of epochs  \\\n",
       "0                  0.1                  5000   \n",
       "1                  0.1                  5000   \n",
       "2                  0.1                  5000   \n",
       "3                  0.1                  5000   \n",
       "4                  0.1                  5000   \n",
       "\n",
       "                                           MC Vanila  \\\n",
       "0  [1.018391728401184, 1.0052063465118408, 1.0261...   \n",
       "1  [1.0327441692352295, 1.0434844493865967, 1.051...   \n",
       "2  [0.9914205074310303, 0.9996729493141174, 0.996...   \n",
       "3  [1.054095983505249, 1.016518473625183, 1.03513...   \n",
       "4  [1.0335631370544434, 1.0092984437942505, 1.040...   \n",
       "\n",
       "                                           norm_flow  \\\n",
       "0  [1.0516717433929443, 1.1018359661102295, 1.069...   \n",
       "1  [1.041224718093872, 1.0545598268508911, 1.1645...   \n",
       "2  [1.0306094884872437, 1.0424857139587402, 0.989...   \n",
       "3  [1.0003259181976318, 1.0019031763076782, 1.017...   \n",
       "4  [1.0954676866531372, 1.0640685558319092, 0.951...   \n",
       "\n",
       "                                                  fl  \\\n",
       "0  [1.0516717433929443, 1.1018359661102295, 1.069...   \n",
       "1  [1.041224718093872, 1.0545598268508911, 1.1645...   \n",
       "2  [1.0306094884872437, 1.0424857139587402, 0.989...   \n",
       "3  [1.0003259181976318, 1.0019031763076782, 1.017...   \n",
       "4  [1.0954676866531372, 1.0640685558319092, 0.951...   \n",
       "\n",
       "                                                  mc  \n",
       "0  [1.018391728401184, 1.0052063465118408, 1.0261...  \n",
       "1  [1.0327441692352295, 1.0434844493865967, 1.051...  \n",
       "2  [0.9914205074310303, 0.9996729493141174, 0.996...  \n",
       "3  [1.054095983505249, 1.016518473625183, 1.03513...  \n",
       "4  [1.0335631370544434, 1.0092984437942505, 1.040...  "
      ]
     },
     "execution_count": 115,
     "metadata": {},
     "output_type": "execute_result"
    }
   ],
   "source": [
    "def transf(s):\n",
    "    s = s.replace('[', '')\n",
    "    s = s.replace(']', '')\n",
    "    s = s.split(',')\n",
    "    return s\n",
    "\n",
    "nums = list()\n",
    "reg = list()\n",
    "for i in range(data.shape[0]):\n",
    "    mystr = data['norm_flow'].iloc[i]\n",
    "    mystr = transf(mystr)\n",
    "    if mystr[0] != 'nan':\n",
    "        nums.append(np.array(list(map(float, mystr))))\n",
    "        kek = transf(data['MC Vanila'].iloc[i])\n",
    "        reg.append(np.array(list(map(float, kek))))\n",
    "    else:\n",
    "        nums.append(np.nan)\n",
    "        reg.append(np.nan)\n",
    "data['fl'] = nums\n",
    "data['mc'] = reg\n",
    "data.head(5)"
   ]
  },
  {
   "cell_type": "code",
   "execution_count": 116,
   "metadata": {},
   "outputs": [
    {
     "data": {
      "text/plain": [
       "3     240\n",
       "9     240\n",
       "15    240\n",
       "Name: layer amount, dtype: int64"
      ]
     },
     "execution_count": 116,
     "metadata": {},
     "output_type": "execute_result"
    }
   ],
   "source": [
    "data['layer amount'].value_counts()"
   ]
  },
  {
   "cell_type": "code",
   "execution_count": 117,
   "metadata": {},
   "outputs": [
    {
     "data": {
      "text/plain": [
       "0.5    31\n",
       "0.1     7\n",
       "Name: variance of p distr, dtype: int64"
      ]
     },
     "execution_count": 117,
     "metadata": {},
     "output_type": "execute_result"
    }
   ],
   "source": [
    "data['variance of p distr'][data['fl'].isna()].value_counts()"
   ]
  },
  {
   "cell_type": "code",
   "execution_count": 118,
   "metadata": {},
   "outputs": [],
   "source": [
    "import collections\n",
    "c = collections.Counter()"
   ]
  },
  {
   "cell_type": "code",
   "execution_count": 119,
   "metadata": {},
   "outputs": [],
   "source": [
    "#check how many relaunches does it take to run sucessfully\n",
    "info = []\n",
    "for i in range(0, data.shape[0], 5):\n",
    "    cur = data.iloc[i:i+5]\n",
    "    nan_attempts = cur['fl'].isna().sum()\n",
    "    info.append(nan_attempts/5)"
   ]
  },
  {
   "cell_type": "code",
   "execution_count": 120,
   "metadata": {},
   "outputs": [
    {
     "data": {
      "text/plain": [
       "Counter({0.0: 114, 0.2: 23, 0.4: 6, 0.6: 1})"
      ]
     },
     "execution_count": 120,
     "metadata": {},
     "output_type": "execute_result"
    }
   ],
   "source": [
    "c.update(info)\n",
    "c"
   ]
  },
  {
   "cell_type": "code",
   "execution_count": 121,
   "metadata": {},
   "outputs": [
    {
     "name": "stdout",
     "output_type": "stream",
     "text": [
      "Expected number of fails: 0.26388888888888884\n"
     ]
    }
   ],
   "source": [
    "all_vals = sum(c.values())\n",
    "ans = 0\n",
    "\n",
    "for key, val in c.items():\n",
    "    ans += (key * 5) * val/all_vals\n",
    "print(\"Expected number of fails:\", ans)"
   ]
  },
  {
   "cell_type": "code",
   "execution_count": 122,
   "metadata": {},
   "outputs": [
    {
     "name": "stdout",
     "output_type": "stream",
     "text": [
      "[0 0.001 3 9 'maf' 0.1 20000]\n",
      "[0 0.001 9 3 'maf' 0.5 5000]\n",
      "[0 0.001 9 15 'maf' 0.5 20000]\n",
      "[0 0.001 15 15 'realnvp' 0.5 5000]\n",
      "[0 0.0001 3 3 'maf' 0.5 20000]\n",
      "[0 0.0001 3 9 'realnvp' 0.5 20000]\n",
      "[0 0.0001 3 9 'maf' 0.5 5000]\n",
      "[0 0.0001 3 9 'maf' 0.5 20000]\n",
      "[0 0.0001 3 15 'realnvp' 0.5 20000]\n",
      "[0 0.0001 3 15 'maf' 0.5 20000]\n",
      "[0 0.0001 9 3 'maf' 0.5 20000]\n",
      "[0 0.0001 9 9 'realnvp' 0.5 5000]\n",
      "[0 0.0001 9 15 'realnvp' 0.5 20000]\n",
      "[0 0.0001 9 15 'maf' 0.5 5000]\n",
      "[0 0.0001 15 9 'maf' 0.5 5000]\n",
      "[0 0.0001 15 9 'maf' 0.5 20000]\n"
     ]
    },
    {
     "data": {
      "text/plain": [
       "Counter({0: 83, 1: 25, 2: 20, 3: 9, 4: 6, 5: 1})"
      ]
     },
     "execution_count": 122,
     "metadata": {},
     "output_type": "execute_result"
    }
   ],
   "source": [
    "#check how many shifts of bias are there for one setting\n",
    "info = []\n",
    "for i in range(0, data.shape[0], 5):\n",
    "    cur = data.iloc[i:i+5]\n",
    "    shifts = ((cur['mc'].apply(np.mean) - cur['fl'].apply(np.mean)).apply(abs) > 0.05).sum()\n",
    "    info.append(shifts)\n",
    "    if shifts > 2:\n",
    "        print(cur.iloc[0][:'MC Vanila'].to_numpy()[:-1])\n",
    "c = collections.Counter()\n",
    "c.update(info)\n",
    "c"
   ]
  },
  {
   "cell_type": "code",
   "execution_count": 123,
   "metadata": {},
   "outputs": [
    {
     "name": "stdout",
     "output_type": "stream",
     "text": [
      "[2 0.001 3 3 'maf' 0.5 5000]\n"
     ]
    },
    {
     "data": {
      "image/png": "[encoded data removed]",
      "text/plain": [
       "<Figure size 864x576 with 1 Axes>"
      ]
     },
     "metadata": {
      "needs_background": "light"
     },
     "output_type": "display_data"
    }
   ],
   "source": [
    "#check how many shifts of bias are there for one setting\n",
    "for i in range(0, data.shape[0]):\n",
    "    mc = data['mc'].iloc[i]\n",
    "    fl = data['fl'].iloc[i]\n",
    "    if abs(np.mean(mc)-np.mean(fl)) > 0.1:\n",
    "        print(data.iloc[i][:'MC Vanila'].to_numpy()[:-1])\n",
    "        box_comp(mc, fl)\n",
    "        break"
   ]
  },
  {
   "cell_type": "code",
   "execution_count": 124,
   "metadata": {},
   "outputs": [
    {
     "data": {
      "text/plain": [
       "(682, 11)"
      ]
     },
     "execution_count": 124,
     "metadata": {},
     "output_type": "execute_result"
    }
   ],
   "source": [
    "data.dropna(inplace=True)\n",
    "data.shape"
   ]
  },
  {
   "cell_type": "code",
   "execution_count": 125,
   "metadata": {
    "scrolled": true
   },
   "outputs": [
    {
     "data": {
      "text/html": [
       "<div>\n",
       "<style scoped>\n",
       "    .dataframe tbody tr th:only-of-type {\n",
       "        vertical-align: middle;\n",
       "    }\n",
       "\n",
       "    .dataframe tbody tr th {\n",
       "        vertical-align: top;\n",
       "    }\n",
       "\n",
       "    .dataframe thead th {\n",
       "        text-align: right;\n",
       "    }\n",
       "</style>\n",
       "<table border=\"1\" class=\"dataframe\">\n",
       "  <thead>\n",
       "    <tr style=\"text-align: right;\">\n",
       "      <th></th>\n",
       "      <th>test n</th>\n",
       "      <th>learning rate</th>\n",
       "      <th>layer amount</th>\n",
       "      <th>hidden layer size</th>\n",
       "      <th>flow type</th>\n",
       "      <th>variance of p distr</th>\n",
       "      <th>max_amount of epochs</th>\n",
       "      <th>MC Vanila</th>\n",
       "      <th>norm_flow</th>\n",
       "      <th>fl</th>\n",
       "      <th>mc</th>\n",
       "      <th>fl_var</th>\n",
       "    </tr>\n",
       "  </thead>\n",
       "  <tbody>\n",
       "    <tr>\n",
       "      <th>0</th>\n",
       "      <td>0</td>\n",
       "      <td>0.001</td>\n",
       "      <td>3</td>\n",
       "      <td>3</td>\n",
       "      <td>realnvp</td>\n",
       "      <td>0.1</td>\n",
       "      <td>5000</td>\n",
       "      <td>[1.018391728401184, 1.0052063465118408, 1.0261...</td>\n",
       "      <td>[1.0516717433929443, 1.1018359661102295, 1.069...</td>\n",
       "      <td>[1.0516717433929443, 1.1018359661102295, 1.069...</td>\n",
       "      <td>[1.018391728401184, 1.0052063465118408, 1.0261...</td>\n",
       "      <td>0.001388</td>\n",
       "    </tr>\n",
       "    <tr>\n",
       "      <th>1</th>\n",
       "      <td>1</td>\n",
       "      <td>0.001</td>\n",
       "      <td>3</td>\n",
       "      <td>3</td>\n",
       "      <td>realnvp</td>\n",
       "      <td>0.1</td>\n",
       "      <td>5000</td>\n",
       "      <td>[1.0327441692352295, 1.0434844493865967, 1.051...</td>\n",
       "      <td>[1.041224718093872, 1.0545598268508911, 1.1645...</td>\n",
       "      <td>[1.041224718093872, 1.0545598268508911, 1.1645...</td>\n",
       "      <td>[1.0327441692352295, 1.0434844493865967, 1.051...</td>\n",
       "      <td>0.024149</td>\n",
       "    </tr>\n",
       "    <tr>\n",
       "      <th>2</th>\n",
       "      <td>2</td>\n",
       "      <td>0.001</td>\n",
       "      <td>3</td>\n",
       "      <td>3</td>\n",
       "      <td>realnvp</td>\n",
       "      <td>0.1</td>\n",
       "      <td>5000</td>\n",
       "      <td>[0.9914205074310303, 0.9996729493141174, 0.996...</td>\n",
       "      <td>[1.0306094884872437, 1.0424857139587402, 0.989...</td>\n",
       "      <td>[1.0306094884872437, 1.0424857139587402, 0.989...</td>\n",
       "      <td>[0.9914205074310303, 0.9996729493141174, 0.996...</td>\n",
       "      <td>0.011445</td>\n",
       "    </tr>\n",
       "    <tr>\n",
       "      <th>3</th>\n",
       "      <td>3</td>\n",
       "      <td>0.001</td>\n",
       "      <td>3</td>\n",
       "      <td>3</td>\n",
       "      <td>realnvp</td>\n",
       "      <td>0.1</td>\n",
       "      <td>5000</td>\n",
       "      <td>[1.054095983505249, 1.016518473625183, 1.03513...</td>\n",
       "      <td>[1.0003259181976318, 1.0019031763076782, 1.017...</td>\n",
       "      <td>[1.0003259181976318, 1.0019031763076782, 1.017...</td>\n",
       "      <td>[1.054095983505249, 1.016518473625183, 1.03513...</td>\n",
       "      <td>0.000964</td>\n",
       "    </tr>\n",
       "    <tr>\n",
       "      <th>4</th>\n",
       "      <td>4</td>\n",
       "      <td>0.001</td>\n",
       "      <td>3</td>\n",
       "      <td>3</td>\n",
       "      <td>realnvp</td>\n",
       "      <td>0.1</td>\n",
       "      <td>5000</td>\n",
       "      <td>[1.0335631370544434, 1.0092984437942505, 1.040...</td>\n",
       "      <td>[1.0954676866531372, 1.0640685558319092, 0.951...</td>\n",
       "      <td>[1.0954676866531372, 1.0640685558319092, 0.951...</td>\n",
       "      <td>[1.0335631370544434, 1.0092984437942505, 1.040...</td>\n",
       "      <td>0.035549</td>\n",
       "    </tr>\n",
       "  </tbody>\n",
       "</table>\n",
       "</div>"
      ],
      "text/plain": [
       "   test n  learning rate  layer amount  hidden layer size flow type  \\\n",
       "0       0          0.001             3                  3   realnvp   \n",
       "1       1          0.001             3                  3   realnvp   \n",
       "2       2          0.001             3                  3   realnvp   \n",
       "3       3          0.001             3                  3   realnvp   \n",
       "4       4          0.001             3                  3   realnvp   \n",
       "\n",
       "   variance of p distr  max_amount of epochs  \\\n",
       "0                  0.1                  5000   \n",
       "1                  0.1                  5000   \n",
       "2                  0.1                  5000   \n",
       "3                  0.1                  5000   \n",
       "4                  0.1                  5000   \n",
       "\n",
       "                                           MC Vanila  \\\n",
       "0  [1.018391728401184, 1.0052063465118408, 1.0261...   \n",
       "1  [1.0327441692352295, 1.0434844493865967, 1.051...   \n",
       "2  [0.9914205074310303, 0.9996729493141174, 0.996...   \n",
       "3  [1.054095983505249, 1.016518473625183, 1.03513...   \n",
       "4  [1.0335631370544434, 1.0092984437942505, 1.040...   \n",
       "\n",
       "                                           norm_flow  \\\n",
       "0  [1.0516717433929443, 1.1018359661102295, 1.069...   \n",
       "1  [1.041224718093872, 1.0545598268508911, 1.1645...   \n",
       "2  [1.0306094884872437, 1.0424857139587402, 0.989...   \n",
       "3  [1.0003259181976318, 1.0019031763076782, 1.017...   \n",
       "4  [1.0954676866531372, 1.0640685558319092, 0.951...   \n",
       "\n",
       "                                                  fl  \\\n",
       "0  [1.0516717433929443, 1.1018359661102295, 1.069...   \n",
       "1  [1.041224718093872, 1.0545598268508911, 1.1645...   \n",
       "2  [1.0306094884872437, 1.0424857139587402, 0.989...   \n",
       "3  [1.0003259181976318, 1.0019031763076782, 1.017...   \n",
       "4  [1.0954676866531372, 1.0640685558319092, 0.951...   \n",
       "\n",
       "                                                  mc    fl_var  \n",
       "0  [1.018391728401184, 1.0052063465118408, 1.0261...  0.001388  \n",
       "1  [1.0327441692352295, 1.0434844493865967, 1.051...  0.024149  \n",
       "2  [0.9914205074310303, 0.9996729493141174, 0.996...  0.011445  \n",
       "3  [1.054095983505249, 1.016518473625183, 1.03513...  0.000964  \n",
       "4  [1.0335631370544434, 1.0092984437942505, 1.040...  0.035549  "
      ]
     },
     "execution_count": 125,
     "metadata": {},
     "output_type": "execute_result"
    }
   ],
   "source": [
    "data['fl_var'] = data['fl'].apply(np.var)\n",
    "data.head(5)"
   ]
  },
  {
   "cell_type": "code",
   "execution_count": 126,
   "metadata": {},
   "outputs": [],
   "source": [
    "data.sort_values(by='fl_var', inplace=True)"
   ]
  },
  {
   "cell_type": "code",
   "execution_count": 136,
   "metadata": {
    "scrolled": false
   },
   "outputs": [
    {
     "data": {
      "image/png": "[encoded data removed]",
      "text/plain": [
       "<Figure size 1008x1008 with 9 Axes>"
      ]
     },
     "metadata": {
      "needs_background": "light"
     },
     "output_type": "display_data"
    }
   ],
   "source": [
    "# see in what cases bias appears. supposedly, in every\n",
    "plt.figure(figsize=(14, 14))\n",
    "for i, ls in enumerate([3, 9, 15]):\n",
    "    for j, hds in enumerate([3, 9, 15]):\n",
    "        mc = None\n",
    "        fl = None\n",
    "        \n",
    "        for k in range(0, data.shape[0]):\n",
    "            curm = data['mc'].iloc[k]\n",
    "            curf = data['fl'].iloc[k]\n",
    "            if abs(np.mean(curm)-np.mean(curf)) < 0.025 and data['variance of p distr'].iloc[k] == 0.5 and \\\n",
    "                np.var(curm) > np.var(curf) and data['layer amount'].iloc[k] == ls \\\n",
    "                and data['hidden layer size'].iloc[k] == hds and \\\n",
    "                data['max_amount of epochs'].iloc[k] == 20*10**3:\n",
    "                mc = data['mc'].iloc[k]\n",
    "                fl = data['fl'].iloc[k]\n",
    "                break\n",
    "        if mc is None:\n",
    "            for k in range(0, data.shape[0]):\n",
    "                curm = data['mc'].iloc[k]\n",
    "                curf = data['fl'].iloc[k]\n",
    "                if abs(np.mean(curm)-np.mean(curf)) < 0.04 and data['variance of p distr'].iloc[k] == 0.5 and \\\n",
    "                    np.var(curm) > np.var(curf) and data['layer amount'].iloc[k] == ls \\\n",
    "                    and data['hidden layer size'].iloc[k] == hds and \\\n",
    "                    data['max_amount of epochs'].iloc[k] == 20*10**3:\n",
    "                    mc = data['mc'].iloc[k]\n",
    "                    fl = data['fl'].iloc[k]\n",
    "                    break\n",
    "        \n",
    "        plt.subplot2grid((3, 3), (i, j))\n",
    "        plt.grid()\n",
    "        plt.title('Layer_amnt=' + str(ls) + ' | hidden_size=' + str(hds))\n",
    "        if mc is None:\n",
    "            continue\n",
    "        ars = [mc, fl]                \n",
    "        plt.boxplot(ars, showfliers = False, labels =                              \n",
    "                    [\"Vanila Sampling\", \"norm_flow\"])\n",
    "        "
   ]
  },
  {
   "cell_type": "code",
   "execution_count": 18,
   "metadata": {},
   "outputs": [
    {
     "data": {
      "text/plain": [
       "217"
      ]
     },
     "execution_count": 18,
     "metadata": {},
     "output_type": "execute_result"
    }
   ],
   "source": [
    "cnt = 0\n",
    "for i in range(data.shape[0]):\n",
    "    kek = data['mc'].iloc[i]\n",
    "    mek = data['fl'].iloc[i]\n",
    "    if np.var(kek) > np.var(mek):\n",
    "        cnt += 1\n",
    "cnt"
   ]
  },
  {
   "cell_type": "code",
   "execution_count": 137,
   "metadata": {},
   "outputs": [
    {
     "data": {
      "text/plain": [
       "106"
      ]
     },
     "execution_count": 137,
     "metadata": {},
     "output_type": "execute_result"
    }
   ],
   "source": [
    "cnt = 0\n",
    "analys = []\n",
    "st1 = []\n",
    "st2 = []\n",
    "an2 = []\n",
    "for i in range(0, data.shape[0]):\n",
    "    mc = data['mc'].iloc[i]\n",
    "    fl = data['fl'].iloc[i]\n",
    "    ls = data['layer amount'].iloc[i]\n",
    "    hs = data['hidden layer size'].iloc[i]\n",
    "    st = data['max_amount of epochs'].iloc[i]\n",
    "    if abs(np.mean(mc)-np.mean(fl)) > 0.05 and data['variance of p distr'].iloc[i] == 0.5:\n",
    "        cnt += 1\n",
    "        analys.append((ls, hs))\n",
    "        st1.append(st)\n",
    "    else:\n",
    "        an2.append((ls, hs))\n",
    "        st2.append(st)\n",
    "cnt"
   ]
  },
  {
   "cell_type": "code",
   "execution_count": 138,
   "metadata": {},
   "outputs": [
    {
     "data": {
      "text/plain": [
       "Counter({(3, 3): 7,\n",
       "         (3, 15): 15,\n",
       "         (9, 3): 9,\n",
       "         (15, 9): 16,\n",
       "         (3, 9): 18,\n",
       "         (9, 15): 14,\n",
       "         (15, 15): 11,\n",
       "         (15, 3): 5,\n",
       "         (9, 9): 11})"
      ]
     },
     "execution_count": 138,
     "metadata": {},
     "output_type": "execute_result"
    }
   ],
   "source": [
    "c = collections.Counter()\n",
    "c.update(analys)\n",
    "c"
   ]
  },
  {
   "cell_type": "code",
   "execution_count": 139,
   "metadata": {},
   "outputs": [
    {
     "data": {
      "text/plain": [
       "Counter({20000: 55, 5000: 51})"
      ]
     },
     "execution_count": 139,
     "metadata": {},
     "output_type": "execute_result"
    }
   ],
   "source": [
    "c = collections.Counter()\n",
    "c.update(st1)\n",
    "c"
   ]
  },
  {
   "cell_type": "code",
   "execution_count": 140,
   "metadata": {},
   "outputs": [
    {
     "data": {
      "text/plain": [
       "Counter({(15, 3): 73,\n",
       "         (9, 15): 61,\n",
       "         (3, 9): 60,\n",
       "         (15, 9): 58,\n",
       "         (9, 3): 68,\n",
       "         (3, 3): 72,\n",
       "         (9, 9): 62,\n",
       "         (15, 15): 59,\n",
       "         (3, 15): 63})"
      ]
     },
     "execution_count": 140,
     "metadata": {},
     "output_type": "execute_result"
    }
   ],
   "source": [
    "c = collections.Counter()\n",
    "c.update(an2)\n",
    "c"
   ]
  },
  {
   "cell_type": "code",
   "execution_count": 87,
   "metadata": {},
   "outputs": [
    {
     "data": {
      "text/plain": [
       "Counter({20000: 274, 5000: 287})"
      ]
     },
     "execution_count": 87,
     "metadata": {},
     "output_type": "execute_result"
    }
   ],
   "source": [
    "c = collections.Counter()\n",
    "c.update(st2)\n",
    "c"
   ]
  },
  {
   "cell_type": "code",
   "execution_count": 74,
   "metadata": {},
   "outputs": [
    {
     "data": {
      "text/plain": [
       "{(15, 3): 6,\n",
       " (9, 15): 9,\n",
       " (3, 9): 14,\n",
       " (15, 9): 5,\n",
       " (9, 3): 14,\n",
       " (3, 3): 13,\n",
       " (9, 9): 7,\n",
       " (15, 15): 3,\n",
       " (3, 15): 9}"
      ]
     },
     "execution_count": 74,
     "metadata": {},
     "output_type": "execute_result"
    }
   ],
   "source": [
    "# check, whether every combination can be optimal\n",
    "cnt = 0\n",
    "cntr = {}\n",
    "for i in range(data.shape[0]):\n",
    "    mc = data['mc'].iloc[i]\n",
    "    fl = data['fl'].iloc[i]\n",
    "    if np.var(mc) > np.var(fl) \\\n",
    "        and abs(np.mean(mc)-np.mean(fl)) < 0.05 and data['variance of p distr'].iloc[i] == 0.1:\n",
    "        ls = data['layer amount'].iloc[i]\n",
    "        hs = data['hidden layer size'].iloc[i]\n",
    "        if (ls, hs) in cntr:\n",
    "            cntr[(ls, hs)] += 1\n",
    "        else:\n",
    "            cntr[(ls, hs)] = 1\n",
    "cntr"
   ]
  },
  {
   "cell_type": "code",
   "execution_count": 75,
   "metadata": {},
   "outputs": [
    {
     "data": {
      "text/plain": [
       "{(3, 3): 23,\n",
       " (15, 15): 8,\n",
       " (9, 3): 16,\n",
       " (9, 9): 9,\n",
       " (15, 3): 15,\n",
       " (9, 15): 7,\n",
       " (3, 9): 11,\n",
       " (15, 9): 7,\n",
       " (3, 15): 6}"
      ]
     },
     "execution_count": 75,
     "metadata": {},
     "output_type": "execute_result"
    }
   ],
   "source": [
    "# check, whether every combination can be optimal\n",
    "cnt = 0\n",
    "cntr = {}\n",
    "for i in range(data.shape[0]):\n",
    "    mc = data['mc'].iloc[i]\n",
    "    fl = data['fl'].iloc[i]\n",
    "    if np.var(mc) > np.var(fl) \\\n",
    "        and abs(np.mean(mc)-np.mean(fl)) < 0.05 and data['variance of p distr'].iloc[i] == 0.5:\n",
    "        ls = data['layer amount'].iloc[i]\n",
    "        hs = data['hidden layer size'].iloc[i]\n",
    "        if (ls, hs) in cntr:\n",
    "            cntr[(ls, hs)] += 1\n",
    "        else:\n",
    "            cntr[(ls, hs)] = 1\n",
    "cntr"
   ]
  },
  {
   "cell_type": "code",
   "execution_count": 72,
   "metadata": {
    "scrolled": false
   },
   "outputs": [
    {
     "name": "stdout",
     "output_type": "stream",
     "text": [
      "[1 0.0001 15 3 'maf' 0.1 20000]\n"
     ]
    },
    {
     "data": {
      "image/png": "[encoded data removed]",
      "text/plain": [
       "<Figure size 864x576 with 1 Axes>"
      ]
     },
     "metadata": {
      "needs_background": "light"
     },
     "output_type": "display_data"
    },
    {
     "name": "stdout",
     "output_type": "stream",
     "text": [
      "[4 0.001 9 15 'maf' 0.1 20000]\n"
     ]
    },
    {
     "data": {
      "image/png": "[encoded data removed]",
      "text/plain": [
       "<Figure size 864x576 with 1 Axes>"
      ]
     },
     "metadata": {
      "needs_background": "light"
     },
     "output_type": "display_data"
    },
    {
     "name": "stdout",
     "output_type": "stream",
     "text": [
      "[0 0.0001 3 9 'maf' 0.1 5000]\n"
     ]
    },
    {
     "data": {
      "image/png": "[encoded data removed]",
      "text/plain": [
       "<Figure size 864x576 with 1 Axes>"
      ]
     },
     "metadata": {
      "needs_background": "light"
     },
     "output_type": "display_data"
    },
    {
     "name": "stdout",
     "output_type": "stream",
     "text": [
      "[1 0.0001 15 9 'maf' 0.1 20000]\n"
     ]
    },
    {
     "data": {
      "image/png": "[encoded data removed]",
      "text/plain": [
       "<Figure size 864x576 with 1 Axes>"
      ]
     },
     "metadata": {
      "needs_background": "light"
     },
     "output_type": "display_data"
    },
    {
     "name": "stdout",
     "output_type": "stream",
     "text": [
      "[3 0.001 9 15 'maf' 0.1 5000]\n"
     ]
    },
    {
     "data": {
      "image/png": "[encoded data removed]",
      "text/plain": [
       "<Figure size 864x576 with 1 Axes>"
      ]
     },
     "metadata": {
      "needs_background": "light"
     },
     "output_type": "display_data"
    }
   ],
   "source": [
    "cnt = 0\n",
    "for i in range(data.shape[0]):\n",
    "    if cnt == 5:\n",
    "        break\n",
    "    mc = data['mc'].iloc[i]\n",
    "    fl = data['fl'].iloc[i]\n",
    "    if np.var(mc) > np.var(fl) \\\n",
    "        and abs(np.mean(mc)-np.mean(fl)) < 0.05 and data['variance of p distr'].iloc[i] == 0.1:\n",
    "        cnt += 1\n",
    "        print(data.iloc[i][:'MC Vanila'].to_numpy()[:-1])\n",
    "        box_comp(mc, fl)"
   ]
  },
  {
   "cell_type": "code",
   "execution_count": 71,
   "metadata": {
    "scrolled": false
   },
   "outputs": [
    {
     "name": "stdout",
     "output_type": "stream",
     "text": [
      "[2 0.0001 3 3 'realnvp' 0.5 5000]\n"
     ]
    },
    {
     "data": {
      "image/png": "[encoded data removed]",
      "text/plain": [
       "<Figure size 864x576 with 1 Axes>"
      ]
     },
     "metadata": {
      "needs_background": "light"
     },
     "output_type": "display_data"
    },
    {
     "name": "stdout",
     "output_type": "stream",
     "text": [
      "[1 0.001 15 15 'maf' 0.5 5000]\n"
     ]
    },
    {
     "data": {
      "image/png": "[encoded data removed]",
      "text/plain": [
       "<Figure size 864x576 with 1 Axes>"
      ]
     },
     "metadata": {
      "needs_background": "light"
     },
     "output_type": "display_data"
    },
    {
     "name": "stdout",
     "output_type": "stream",
     "text": [
      "[0 0.001 9 3 'realnvp' 0.5 20000]\n"
     ]
    },
    {
     "data": {
      "image/png": "[encoded data removed]",
      "text/plain": [
       "<Figure size 864x576 with 1 Axes>"
      ]
     },
     "metadata": {
      "needs_background": "light"
     },
     "output_type": "display_data"
    },
    {
     "name": "stdout",
     "output_type": "stream",
     "text": [
      "[0 0.001 9 9 'maf' 0.5 5000]\n"
     ]
    },
    {
     "data": {
      "image/png": "[encoded data removed]",
      "text/plain": [
       "<Figure size 864x576 with 1 Axes>"
      ]
     },
     "metadata": {
      "needs_background": "light"
     },
     "output_type": "display_data"
    },
    {
     "name": "stdout",
     "output_type": "stream",
     "text": [
      "[4 0.0001 3 3 'maf' 0.5 5000]\n"
     ]
    },
    {
     "data": {
      "image/png": "[encoded data removed]",
      "text/plain": [
       "<Figure size 864x576 with 1 Axes>"
      ]
     },
     "metadata": {
      "needs_background": "light"
     },
     "output_type": "display_data"
    }
   ],
   "source": [
    "cnt = 0\n",
    "for i in range(data.shape[0]):\n",
    "    if cnt == 5:\n",
    "        break\n",
    "    mc = data['mc'].iloc[i]\n",
    "    fl = data['fl'].iloc[i]\n",
    "    if np.var(mc) > np.var(fl) \\\n",
    "        and abs(np.mean(mc)-np.mean(fl)) < 0.05 and data['variance of p distr'].iloc[i] == 0.5:\n",
    "        cnt += 1\n",
    "        print(data.iloc[i][:'MC Vanila'].to_numpy()[:-1])\n",
    "        box_comp(mc, fl)"
   ]
  },
  {
   "cell_type": "code",
   "execution_count": null,
   "metadata": {},
   "outputs": [],
   "source": []
  }
 ],
 "metadata": {
  "accelerator": "GPU",
  "colab": {
   "collapsed_sections": [],
   "name": "3+ dim",
   "provenance": []
  },
  "kernelspec": {
   "display_name": "Python [conda env:root] *",
   "language": "python",
   "name": "conda-root-py"
  },
  "language_info": {
   "codemirror_mode": {
    "name": "ipython",
    "version": 3
   },
   "file_extension": ".py",
   "mimetype": "text/x-python",
   "name": "python",
   "nbconvert_exporter": "python",
   "pygments_lexer": "ipython3",
   "version": "3.7.6"
  }
 },
 "nbformat": 4,
 "nbformat_minor": 1
}
